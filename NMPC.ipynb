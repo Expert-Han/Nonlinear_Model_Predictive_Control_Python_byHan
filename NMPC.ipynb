{
  "nbformat": 4,
  "nbformat_minor": 0,
  "metadata": {
    "colab": {
      "provenance": [],
      "authorship_tag": "ABX9TyOVSe3B5msLSkrGorrw16TN",
      "include_colab_link": true
    },
    "kernelspec": {
      "name": "python3",
      "display_name": "Python 3"
    },
    "language_info": {
      "name": "python"
    }
  },
  "cells": [
    {
      "cell_type": "markdown",
      "metadata": {
        "id": "view-in-github",
        "colab_type": "text"
      },
      "source": [
        "<a href=\"https://colab.research.google.com/github/Expert-Han/Nonlinear_Model_Predictive_Control_Python_byHan/blob/main/NMPC.ipynb\" target=\"_parent\"><img src=\"https://colab.research.google.com/assets/colab-badge.svg\" alt=\"Open In Colab\"/></a>"
      ]
    },
    {
      "cell_type": "markdown",
      "source": [
        "## Python version check in Colab & Casadi install"
      ],
      "metadata": {
        "id": "KKSAWaI7llPH"
      }
    },
    {
      "cell_type": "code",
      "execution_count": 2,
      "metadata": {
        "colab": {
          "base_uri": "https://localhost:8080/"
        },
        "id": "R9p1KyxukifF",
        "outputId": "2677d5f7-d915-4ebf-f469-350adbe33372"
      },
      "outputs": [
        {
          "output_type": "stream",
          "name": "stdout",
          "text": [
            "Python 3.8.10\n"
          ]
        }
      ],
      "source": [
        "!python --version"
      ]
    },
    {
      "cell_type": "code",
      "source": [
        "pip install casadi"
      ],
      "metadata": {
        "colab": {
          "base_uri": "https://localhost:8080/"
        },
        "id": "HrniIuFMlcpu",
        "outputId": "dcff11dd-33e7-46b6-8844-4a5fcf15ba8e"
      },
      "execution_count": 3,
      "outputs": [
        {
          "output_type": "stream",
          "name": "stdout",
          "text": [
            "Looking in indexes: https://pypi.org/simple, https://us-python.pkg.dev/colab-wheels/public/simple/\n",
            "Collecting casadi\n",
            "  Downloading casadi-3.5.5-cp38-none-manylinux1_x86_64.whl (34.2 MB)\n",
            "\u001b[2K     \u001b[90m━━━━━━━━━━━━━━━━━━━━━━━━━━━━━━━━━━━━━━━━\u001b[0m \u001b[32m34.2/34.2 MB\u001b[0m \u001b[31m53.0 MB/s\u001b[0m eta \u001b[36m0:00:00\u001b[0m\n",
            "\u001b[?25hInstalling collected packages: casadi\n",
            "Successfully installed casadi-3.5.5\n"
          ]
        }
      ]
    },
    {
      "cell_type": "code",
      "source": [
        "from casadi import *\n",
        "x = MX.sym(\"x\")\n",
        "print(jacobian(sin(x),x))"
      ],
      "metadata": {
        "colab": {
          "base_uri": "https://localhost:8080/"
        },
        "id": "-Wi57to6lg_9",
        "outputId": "20bf233d-c4da-4f60-d585-2263f021ee8a"
      },
      "execution_count": 4,
      "outputs": [
        {
          "output_type": "stream",
          "name": "stdout",
          "text": [
            "cos(x)\n"
          ]
        }
      ]
    },
    {
      "cell_type": "markdown",
      "source": [
        "## Main code for NMPC (Nonlinear Model Predictive Control)"
      ],
      "metadata": {
        "id": "4jYmI-QglxuN"
      }
    },
    {
      "cell_type": "code",
      "source": [
        "import numpy as np\n",
        "# Q = np.array([1, 0, 0],[0, 1, 0],[0, 0, 1])\n",
        "Q = np.array([1, 0, 0],[0, 1, 0],[0, 0, 1]) # weighting matrix for state\n",
        "R = np.array([0.1]) # weighting matrix for input\n",
        "\n",
        "# x_cl_out{1} = x_cl{1};\n",
        "# u_cl_out{1} = u_cl{1};\n",
        "\n",
        "M = 0.5;      % mass of the cart (kg)  \n",
        "m = 0.5;      % mass of the pendulum bob (kg)\n",
        "L = 1;        % length of the pendulum rod (m)\n",
        "g = 9.81;\n",
        "im = 0.5;      % inertia  \n",
        "\n",
        "a21 = (m*g*(L/2))/(im+m*(L/2)^2-((m^2*(L/2)^2)/(m+M)));\n",
        "a41 = ((im+m*(L/2)^2)*g)*(im+m*(L/2)^2-(m^2*(L/2)^2)/(M+m));\n",
        "b2 = ((m*(L/2))/(M+m))/(im+m*(L/2)^2-(m^2*(L/2)^2)/(M+m));\n",
        "b4 = ((im+m*(L/2)^2)/(M+m))/(im+m*(L/2)^2-(m^2*(L/2)^2)/(M+m));\n",
        "\n",
        "A = [0 1 0 0;\n",
        "    a21 0 0 0;\n",
        "    0 0 0 1;\n",
        "    a41 0 0 0];\n",
        "B = [0;\n",
        "    b2;\n",
        "    0;\n",
        "    b4];\n",
        "    \n",
        "x1 = MX.sym('x1'); # States define\n",
        "x2 = MX.sym('x2');\n",
        "x  = [x1; x2];    \n",
        "u  = MX.sym('u'); # Controls\n",
        "\n",
        "# Van der Pol oscillator system  (nonlinear ODE)\n",
        "xbar=2;\n",
        "A1 = [1-xbar^2 -1;1 0];\n",
        "A2 = [1 -1; 1 0];\n",
        "B = [1; 0];\n",
        "% Van der Pol oscillator system  (nonlinear ODE)\n",
        "th1 = (x2^2)/xbar^2;\n",
        "th2 = 1-th1;\n",
        "\n",
        "ode = th1*(A1*x+B*u)+th2*(A2*x+B*u);\n",
        "\n",
        "f = Function('f',{x,u},{ode},{'x','u'},{'ode'});\n",
        "intg_options = struct;\n",
        "intg_options.tf = ti;\n",
        "intg_options.simplify = true;\n",
        "\n",
        "dae = struct;\n",
        "dae.x = x;         % What are states?\n",
        "dae.p = u;         % What are parameters (=fixed during the integration horizon)?\n",
        "dae.ode = f(x,u);  % Expression for the right-hand side\n",
        "\n",
        "intg = integrator('intzg','rk',dae,intg_options);\n",
        "res = intg('x0',x,'p',u); % Evaluate with symbols\n",
        "x_next = res.xf;\n",
        "F = Function('F',{x,u},{x_next},{'x','u'},{'x_next'});    \n",
        "\n",
        "hmax = h;\n",
        "hmin = 0.01;\n",
        "var_sam = [hmin:ti:hmax];   \n",
        "% save_h = [0.7 0.2 0.4 0.5 0.4 0.6 0.3 0.7 0.3];      \n",
        "ran_num = randi([1 size(var_sam,2)],1);\n",
        "hj = var_sam(ran_num);\n",
        "\n",
        "while (j <= Iterations)\n",
        "\n",
        "    t = 1;      % Initialize time\n",
        "    data_h(1)=0;\n",
        "    Dn = 1;\n",
        "    x_gMPC = x0;  % Initial condition\n",
        "    num_a = 0;\n",
        "\n",
        "    [~, uPred] = solve_CFTOCP(x_gMPC(:,t), N, Q, R, X, U, ti, hmax);\n",
        "    sam_u = uPred;\n",
        "    u_gMPC(:,1) = uPred;\n",
        "  \n",
        "    tollerance = 10^(-9);\n",
        "    exitFlag = 0;\n",
        "    sam_s = x_gMPC(:,1);\n",
        "    s_Sample(:,1) = sam_s;\n",
        "    \n",
        "    while ( exitFlag == 0 )\n",
        "        clc\n",
        "        fprintf('Time step: %d, Iteration: %d, Cost: %13.15f\\n', [t, j, IterationCost_out{j}(1)]);\n",
        "        uPred\n",
        "        update_t = round(hj/ti);\n",
        "%         disp(['Time step: ', num2str(t), ', Iteration: ', num2str(j), ' Best Cost: ',num2str(IterationCost_out{j}(1))])\n",
        "        if num_a == (update_t)\n",
        "                ran_num = randi([1 size(var_sam,2)],1);\n",
        "                hj = var_sam(ran_num);\n",
        "                [~, uPred] = solve_CFTOCP(x_gMPC(:,t), N, Q, R, X, U, ti, hmax);\n",
        "                sam_s = x_gMPC(:,t);\n",
        "                num_a = 0;\n",
        "                Dn = Dn + 1;\n",
        "                data_h(Dn) = t*ti;      \n",
        "        end\n",
        "\n",
        "        % Update system position\n",
        "        u_gMPC(:,t+1) = uPred;\n",
        "        s_Sample(:,t+1) = sam_s;\n",
        "        temp_cost_v(t) = cost_v;\n",
        "        x_gMPC(:,t+1) = full(F(x_gMPC(:,t),uPred));\n",
        "        num_a = num_a + 1;\n",
        "        t = t + 1;\n",
        "        % Check exits conditions\n",
        "        if x_gMPC(:,t)'*x_gMPC(:,t) < (tollerance)\n",
        "            exitFlag = 1;\n",
        "        end\n",
        "    end\n",
        "    \n",
        "    % Now save the data, update cost and safe set.\n",
        "    x_cl_out{j+1} = s_Sample;\n",
        "    u_cl_out{j+1} = u_gMPC;\n",
        "    data_h_out{j} = data_h;\n",
        "    IterationCost_out{j+1} = ComputeCost(s_Sample, u_LMPC, Q, R);   \n",
        "    % increase Iteration index and restart\n",
        "    j = j + 1;\n",
        "    if j <= 1\n",
        "        clear x_gMPC\n",
        "        clear u_gMPC\n",
        "        clear sam_s\n",
        "        clear s_Sample\n",
        "        clear data_h\n",
        "    end\n",
        "    \n",
        "end\n",
        "\n",
        "end"
      ],
      "metadata": {
        "id": "FQuUBZ5slj6C"
      },
      "execution_count": null,
      "outputs": []
    }
  ]
}