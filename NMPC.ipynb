{
  "nbformat": 4,
  "nbformat_minor": 0,
  "metadata": {
    "colab": {
      "provenance": [],
      "authorship_tag": "ABX9TyNPWqGQxxpylmqqpYks/UQq",
      "include_colab_link": true
    },
    "kernelspec": {
      "name": "python3",
      "display_name": "Python 3"
    },
    "language_info": {
      "name": "python"
    }
  },
  "cells": [
    {
      "cell_type": "markdown",
      "metadata": {
        "id": "view-in-github",
        "colab_type": "text"
      },
      "source": [
        "<a href=\"https://colab.research.google.com/github/Expert-Han/Nonlinear_Model_Predictive_Control_Python_byHan/blob/main/NMPC.ipynb\" target=\"_parent\"><img src=\"https://colab.research.google.com/assets/colab-badge.svg\" alt=\"Open In Colab\"/></a>"
      ]
    },
    {
      "cell_type": "markdown",
      "source": [
        "## Python version check in Colab & Casadi install"
      ],
      "metadata": {
        "id": "KKSAWaI7llPH"
      }
    },
    {
      "cell_type": "code",
      "execution_count": 2,
      "metadata": {
        "colab": {
          "base_uri": "https://localhost:8080/"
        },
        "id": "R9p1KyxukifF",
        "outputId": "2677d5f7-d915-4ebf-f469-350adbe33372"
      },
      "outputs": [
        {
          "output_type": "stream",
          "name": "stdout",
          "text": [
            "Python 3.8.10\n"
          ]
        }
      ],
      "source": [
        "!python --version"
      ]
    },
    {
      "cell_type": "code",
      "source": [
        "pip install casadi"
      ],
      "metadata": {
        "colab": {
          "base_uri": "https://localhost:8080/"
        },
        "id": "HrniIuFMlcpu",
        "outputId": "dcff11dd-33e7-46b6-8844-4a5fcf15ba8e"
      },
      "execution_count": 3,
      "outputs": [
        {
          "output_type": "stream",
          "name": "stdout",
          "text": [
            "Looking in indexes: https://pypi.org/simple, https://us-python.pkg.dev/colab-wheels/public/simple/\n",
            "Collecting casadi\n",
            "  Downloading casadi-3.5.5-cp38-none-manylinux1_x86_64.whl (34.2 MB)\n",
            "\u001b[2K     \u001b[90m━━━━━━━━━━━━━━━━━━━━━━━━━━━━━━━━━━━━━━━━\u001b[0m \u001b[32m34.2/34.2 MB\u001b[0m \u001b[31m53.0 MB/s\u001b[0m eta \u001b[36m0:00:00\u001b[0m\n",
            "\u001b[?25hInstalling collected packages: casadi\n",
            "Successfully installed casadi-3.5.5\n"
          ]
        }
      ]
    },
    {
      "cell_type": "code",
      "source": [
        "from casadi import *\n",
        "x = MX.sym(\"x\")\n",
        "print(jacobian(sin(x),x))\n"
      ],
      "metadata": {
        "colab": {
          "base_uri": "https://localhost:8080/"
        },
        "id": "-Wi57to6lg_9",
        "outputId": "6b85489c-f03e-46c2-846f-a40a2a047977"
      },
      "execution_count": 23,
      "outputs": [
        {
          "output_type": "stream",
          "name": "stdout",
          "text": [
            "cos(x)\n",
            "range(0, 3)\n"
          ]
        }
      ]
    },
    {
      "cell_type": "markdown",
      "source": [
        "## Main code for NMPC (Nonlinear Model Predictive Control)"
      ],
      "metadata": {
        "id": "4jYmI-QglxuN"
      }
    },
    {
      "cell_type": "code",
      "source": [
        "import numpy as np\n",
        "\n",
        "## Predict u code \n",
        "\n",
        "def  solve_CFTOCP(x_t, N, Q, R, ti):\n",
        "  M = 0.5       # mass of the cart (kg)  \n",
        "  m = 0.5       # mass of the pendulum bob (kg)\n",
        "  L = 1         # length of the pendulum rod (m)\n",
        "  g = 9.81      # gravity\n",
        "  im = 0.5      # inertia  \n",
        "  size_n = 4\n",
        "\n",
        "  x1 = MX.sym('x1') # States define\n",
        "  x2 = MX.sym('x2')\n",
        "  x3 = MX.sym('x3')\n",
        "  x4 = MX.sym('x4')\n",
        "\n",
        "  x  = [[x1], [x2], [x3], [x4]] \n",
        "  u  = MX.sym('u'); # Controls\n",
        "\n",
        "  # Inverted Pendulum\n",
        "  dx1 = x2\n",
        "  dx2 = (-m**2*(L/2)**2*np.sin(x1)*np.cos(x1)*x2**2+(M+m)*m*g*(L/2)*np.sin(x1)+m*(L/2)*np.cos(x1)*u)/((M+m)*(im+m*(L/2)**2)-m**2*(L/2)**2*np.cos(x1)**2)\n",
        "  dx3 = x4\n",
        "  dx4 = (m**2*(L/2)**2*np.sin(x1)*np.cos(x1)*g-m*(im+m*(L/2)**2)*(L/2)*np.sin(x1)*x2**2+(im+m*(L/2)**2)*u)/((M+m)*(im+m*(L/2)**2)-m**2*(L/2)**2*np.cos(x1)**2)\n",
        "\n",
        "  f = Function('f',{x,u},{dx1,dx2,dx3,dx4},{'ode'})\n",
        "  intg_options = struct\n",
        "  intg_options.tf = ti\n",
        "  intg_options.simplify = true\n",
        "\n",
        "  dae = struct\n",
        "  dae.x = x        # What are states?\n",
        "  dae.p = u         # What are parameters (=fixed during the integration horizon)?\n",
        "  dae.ode = f(x,u)  # Expression for the right-hand side\n",
        "\n",
        "  intg = integrator('intzg','rk',dae,intg_options)\n",
        "  res = intg('x0',x,'p',u) # Evaluate with symbols\n",
        "  x_next = res.xf\n",
        "  F = Function('F',{x,u},{x_next},{'x','u'},{'x_next'})    \n",
        "\n",
        "  opti = casadi.Opti()\n",
        "\n",
        "  # Prediction Size N\n",
        "  tn = N/ti\n",
        "  x = opti.variable(4,tn+1) # Decision variables for state trajetcory, tn + next_state\n",
        "  u = opti.variable(1,tn)\n",
        "  p = opti.parameter(4,1)  # Parameter (not optimized over) <=> updated initial state\n",
        "  \n",
        "  opti.subject_to(x[:,1]==p)\n",
        "  # Constraints\n",
        "  # Select state and input constraints matrices from polyhedrons\n",
        "  #Hx  = X.A;  bx  = X.b;\n",
        "  #Hu  = U.A;  bu  = U.b;\n",
        "\n",
        "  for k in range(0, tn+1):\n",
        "    opti.subject_to(x[:,k+1]==F(x[:,k],u[:,k]))\n",
        " \n",
        "  for k in range(0, tn+2):\n",
        "    opti.subject_to(x[0,k] <= 1) # The first state is bounded by 1\n",
        "\n",
        "  for k in range(0, tn+1):\n",
        "      opti.subject_to(u[1,k] <= 10)  # The first input is bounded by 10\n",
        "\n",
        "  # Cost\n",
        "  Cost=0\n",
        " \n",
        "  for k in range(0, tn+1):\n",
        "      Cost = Cost + x[:,k].T*Q*x[:,k] + u[:,k].T*R*u[:,k] \n",
        "  \n",
        "  Cost = Cost + x[:,tn+1].T*Q*x[:,tn+1] # Add final state\n",
        "\n",
        "  # Solve\n",
        "  opti.minimize(Cost)\n",
        "  opti.set_value(p,x_t)\n",
        "  opti.solver('ipopt')\n",
        "  sol = opti.solve()\n",
        "\n",
        "  x = sol.value(x)\n",
        "  u = sol.value(u)\n",
        "\n",
        "  x = double(x)\n",
        "  u = double(u)\n",
        "\n",
        "  uPred = u[:,1]\n",
        " \n",
        "  return uPred\n",
        "\n",
        "## Simulation Code\n",
        "\n",
        "# Q = np.array([1, 0, 0, 0],[0, 1, 0, 0],[0, 0, 1, 0],[0, 0, 0, 1]) # weighting matrix for state\n",
        "# R = np.array([0.1]) # weighting matrix for input\n",
        "Q = [[1, 0, 0, 0],[0, 1, 0, 0],[0, 0, 1, 0],[0, 0, 0, 1]] # weighting matrix for state\n",
        "R = [0.1] # weighting matrix for input\n",
        "N = 5 # Prediction Time\n",
        "\n",
        "# x_cl_out{1} = x_cl{1};\n",
        "# u_cl_out{1} = u_cl{1};\n",
        "\n",
        "M = 0.5       # mass of the cart (kg)  \n",
        "m = 0.5       # mass of the pendulum bob (kg)\n",
        "L = 1         # length of the pendulum rod (m)\n",
        "g = 9.81      # gravity\n",
        "im = 0.5      # inertia  \n",
        "\n",
        "x1 = MX.sym('x1') # States define\n",
        "x2 = MX.sym('x2')\n",
        "x3 = MX.sym('x3')\n",
        "x4 = MX.sym('x4')\n",
        "\n",
        "x  = [[x1], [x2], [x3], [x4]]  \n",
        "# x  = np.array([x1, x2, x3, x4]);    \n",
        "u  = MX.sym('u') # Controls\n",
        "\n",
        "ti = 0.001 # RK45 sampling time\n",
        "\n",
        "# Inverted Pendulum\n",
        "dx1 = x2\n",
        "dx2 = (-m**2*(L/2)**2*np.sin(x1)*np.cos(x1)*x2**2+(M+m)*m*g*(L/2)*np.sin(x1)+m*(L/2)*np.cos(x1)*u)/((M+m)*(im+m*(L/2)**2)-m**2*(L/2)**2*np.cos(x1)**2)\n",
        "dx3 = x4\n",
        "dx4 = (m**2*(L/2)**2*np.sin(x1)*np.cos(x1)*g-m*(im+m*(L/2)**2)*(L/2)*np.sin(x1)*x2**2+(im+m*(L/2)**2)*u)/((M+m)*(im+m*(L/2)**2)-m**2*(L/2)**2*np.cos(x1)**2)\n",
        "\n",
        "f = Function('f',{x,u},{dx1,dx2,dx3,dx4},{'ode'})\n",
        "intg_options = struct\n",
        "intg_options.tf = ti\n",
        "intg_options.simplify = true\n",
        "\n",
        "dae = struct\n",
        "dae.x = x         # What are states?\n",
        "dae.p = u         # What are parameters (=fixed during the integration horizon)?\n",
        "dae.ode = f(x,u)  # Expression for the right-hand side\n",
        "\n",
        "intg = integrator('intzg','rk',dae,intg_options)\n",
        "res = intg('x0',x,'p',u) # Evaluate with symbols\n",
        "x_next = res.xf\n",
        "F = Function('F',{x,u},{x_next},{'x','u'},{'x_next'})  \n",
        "\n",
        "# Initialize simulation parameters\n",
        "i = 0    \n",
        "degree = 180\n",
        "x0=np.array([degree*(np.pi)/180, 0, 0, 0], dtype=np.float64) \n",
        "x_sig = np.array([x0], dtype=np.float64)\n",
        "uPred = solve_CFTOCP(x_sig[i], N, Q, R, ti)\n",
        "u_sig = np.array([uPred], dtype=np.float64)\n",
        "\n",
        "tollerance = 10^(-9) # Terminating condition for NMPC <=> x'x <= tollerance\n",
        "exitFlag = 0\n",
        "\n",
        "while exitFlag == 0:\n",
        "  # uPred = solve_CFTOCP(x_NMPC(:,t), N, Q, R, X, U, ti, hmax); # X, U is constraint set \n",
        "  uPred = solve_CFTOCP(x_sig[i], N, Q, R, ti)\n",
        "  dx = np.full(F(x_sig[i],uPred))\n",
        "  x_sig = np.vstack((x_sig,dx))\n",
        "  if i >= 1:\n",
        "    u_sig = np.vstack((u_sig,uPred))    \n",
        "  i = i + 1\n",
        "  # Check terminating condition\n",
        "  if x_sig[i].T*x_sig[i] < tollerance:\n",
        "    exitFlag = 1\n",
        "\n",
        "plt.figure()\n",
        "plt.plot(tspan, x_sig[:, 0], label=\"x1\")\n",
        "#plt.plot(tspan, x_sig[:, 1], label=\"x2\")\n",
        "#plt.plot(tspan, x_sig[:, 2], label=\"x3\")\n",
        "#plt.plot(tspan, x_sig[:, 3], label=\"x3\")\n",
        "plt.grid()\n",
        "plt.xlabel(\"Time\")\n",
        "plt.ylabel(\"State response\")\n",
        "plt.legend()\n",
        "plt.show()\n",
        "\n",
        "plt.figure()\n",
        "plt.plot(tspan, u_sig[:, 0], label=\"u\")\n",
        "plt.grid()\n",
        "plt.xlabel(\"Time\")\n",
        "plt.ylabel(\"Control signal\")\n",
        "plt.legend()\n",
        "plt.show()"
      ],
      "metadata": {
        "id": "FQuUBZ5slj6C"
      },
      "execution_count": 20,
      "outputs": []
    }
  ]
}